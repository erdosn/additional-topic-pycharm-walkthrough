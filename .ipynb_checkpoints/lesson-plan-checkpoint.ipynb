{
 "cells": [
  {
   "cell_type": "markdown",
   "metadata": {},
   "source": [
    "### Questions\n",
    "\n",
    "\n",
    "### Materials\n",
    "[Download PyCharm here](https://www.jetbrains.com/pycharm/download/)\n",
    "\n",
    "\n",
    "### Objectives\n",
    "YWBAT \n",
    "- add your interpreter to pycharm\n",
    "- add an individual environment to pycharm\n",
    "- run a nosetest in pycharm\n",
    "- explain what debugging is in pycharm\n",
    "\n",
    "### Outcomes\n",
    "YWBAT\n",
    "- use pycharm for your daily workflow\n",
    "- explain why it's important to use pycharm over ides in the workplace\n",
    "\n",
    "\n",
    "### Outline\n",
    "\n",
    "- Explain the 'why'\n",
    "- go through Pycharm Workflow"
   ]
  },
  {
   "cell_type": "code",
   "execution_count": null,
   "metadata": {},
   "outputs": [],
   "source": [
    "### Step 0: Open a Project Folder\n",
    "### Step 1: Setup your environment\n"
   ]
  }
 ],
 "metadata": {
  "kernelspec": {
   "display_name": "Python 3",
   "language": "python",
   "name": "python3"
  },
  "language_info": {
   "codemirror_mode": {
    "name": "ipython",
    "version": 3
   },
   "file_extension": ".py",
   "mimetype": "text/x-python",
   "name": "python",
   "nbconvert_exporter": "python",
   "pygments_lexer": "ipython3",
   "version": "3.6.9"
  }
 },
 "nbformat": 4,
 "nbformat_minor": 2
}
